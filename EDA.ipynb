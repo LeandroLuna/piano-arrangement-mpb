{
 "cells": [
  {
   "cell_type": "markdown",
   "metadata": {},
   "source": [
    "# Playlist Dataset's Exploratory Data Analyses\n",
    "\n",
    "This notebook presents an exploratory data analysis of a Brazilian music (MPB) playlist dataset.\n",
    "\n",
    "It will analyze various aspects of the data including song distribution, artists, albums, and temporal patterns."
   ]
  },
  {
   "cell_type": "code",
   "execution_count": 2,
   "metadata": {},
   "outputs": [],
   "source": [
    "import pandas as pd\n",
    "import numpy as np\n",
    "import matplotlib.pyplot as plt\n",
    "import seaborn as sns\n",
    "\n",
    "# Visualization settings\n",
    "plt.style.use('default') \n",
    "sns.set_theme(style=\"whitegrid\") \n",
    "pd.set_option('display.max_columns', None)"
   ]
  },
  {
   "cell_type": "code",
   "execution_count": 3,
   "metadata": {},
   "outputs": [
    {
     "name": "stdout",
     "output_type": "stream",
     "text": [
      "First lines of the dataset:\n"
     ]
    },
    {
     "data": {
      "text/html": [
       "<div>\n",
       "<style scoped>\n",
       "    .dataframe tbody tr th:only-of-type {\n",
       "        vertical-align: middle;\n",
       "    }\n",
       "\n",
       "    .dataframe tbody tr th {\n",
       "        vertical-align: top;\n",
       "    }\n",
       "\n",
       "    .dataframe thead th {\n",
       "        text-align: right;\n",
       "    }\n",
       "</style>\n",
       "<table border=\"1\" class=\"dataframe\">\n",
       "  <thead>\n",
       "    <tr style=\"text-align: right;\">\n",
       "      <th></th>\n",
       "      <th>Track Name</th>\n",
       "      <th>Artist</th>\n",
       "      <th>Album</th>\n",
       "      <th>Release Date</th>\n",
       "      <th>Spotify Duration (ms)</th>\n",
       "      <th>Spotify Track URL</th>\n",
       "      <th>YouTube Original Video URL</th>\n",
       "      <th>Original Duration</th>\n",
       "      <th>YouTube Piano Solo Video URL</th>\n",
       "      <th>Piano Solo Duration</th>\n",
       "    </tr>\n",
       "  </thead>\n",
       "  <tbody>\n",
       "    <tr>\n",
       "      <th>0</th>\n",
       "      <td>Velha Infância - 2004 Digital Remaster</td>\n",
       "      <td>Tribalistas</td>\n",
       "      <td>Tribalistas</td>\n",
       "      <td>01/01/2002</td>\n",
       "      <td>250440</td>\n",
       "      <td>https://open.spotify.com/track/1mSxbLW7fKABfeY...</td>\n",
       "      <td>https://www.youtube.com/watch?v=iyJDuJggiEM</td>\n",
       "      <td>251000</td>\n",
       "      <td>https://www.youtube.com/watch?v=YcOyefoJec0</td>\n",
       "      <td>146000.0</td>\n",
       "    </tr>\n",
       "    <tr>\n",
       "      <th>1</th>\n",
       "      <td>Trem-Bala</td>\n",
       "      <td>Ana Vilela</td>\n",
       "      <td>Trem-Bala</td>\n",
       "      <td>12/05/2017</td>\n",
       "      <td>180319</td>\n",
       "      <td>https://open.spotify.com/track/05QeyKGAn4TZrv4...</td>\n",
       "      <td>https://www.youtube.com/watch?v=sWhy1VcvvgY</td>\n",
       "      <td>181000</td>\n",
       "      <td>https://www.youtube.com/watch?v=-OswZiQeXgc</td>\n",
       "      <td>60000.0</td>\n",
       "    </tr>\n",
       "    <tr>\n",
       "      <th>2</th>\n",
       "      <td>Aliança</td>\n",
       "      <td>Tribalistas</td>\n",
       "      <td>Tribalistas</td>\n",
       "      <td>2017</td>\n",
       "      <td>237421</td>\n",
       "      <td>https://open.spotify.com/track/1DLKuppSYytOuxh...</td>\n",
       "      <td>https://www.youtube.com/watch?v=3JiMr-HgHJ8</td>\n",
       "      <td>251000</td>\n",
       "      <td>https://www.youtube.com/watch?v=I1kwd-UDuec</td>\n",
       "      <td>227000.0</td>\n",
       "    </tr>\n",
       "    <tr>\n",
       "      <th>3</th>\n",
       "      <td>O Que É O Que É?</td>\n",
       "      <td>Gonzaguinha</td>\n",
       "      <td>Caminhos Do Coração</td>\n",
       "      <td>13/08/1982</td>\n",
       "      <td>258986</td>\n",
       "      <td>https://open.spotify.com/track/2CoKGyZavJWTFUP...</td>\n",
       "      <td>https://www.youtube.com/watch?v=IYZcsb706q8</td>\n",
       "      <td>261000</td>\n",
       "      <td>https://www.youtube.com/watch?v=CruT6LdL-Uc</td>\n",
       "      <td>219000.0</td>\n",
       "    </tr>\n",
       "    <tr>\n",
       "      <th>4</th>\n",
       "      <td>A Banda</td>\n",
       "      <td>Chico Buarque</td>\n",
       "      <td>Chico Buarque de Hollanda</td>\n",
       "      <td>01/01/1966</td>\n",
       "      <td>131000</td>\n",
       "      <td>https://open.spotify.com/track/6wUp7y502iyWLuL...</td>\n",
       "      <td>https://www.youtube.com/watch?v=WZWcpEgJZAY</td>\n",
       "      <td>132000</td>\n",
       "      <td>https://www.youtube.com/watch?v=8Ba1_LfcFR0</td>\n",
       "      <td>61000.0</td>\n",
       "    </tr>\n",
       "  </tbody>\n",
       "</table>\n",
       "</div>"
      ],
      "text/plain": [
       "                               Track Name         Artist  \\\n",
       "0  Velha Infância - 2004 Digital Remaster    Tribalistas   \n",
       "1                               Trem-Bala     Ana Vilela   \n",
       "2                                 Aliança    Tribalistas   \n",
       "3                        O Que É O Que É?    Gonzaguinha   \n",
       "4                                 A Banda  Chico Buarque   \n",
       "\n",
       "                       Album Release Date  Spotify Duration (ms)  \\\n",
       "0                Tribalistas   01/01/2002                 250440   \n",
       "1                  Trem-Bala   12/05/2017                 180319   \n",
       "2                Tribalistas         2017                 237421   \n",
       "3        Caminhos Do Coração   13/08/1982                 258986   \n",
       "4  Chico Buarque de Hollanda   01/01/1966                 131000   \n",
       "\n",
       "                                   Spotify Track URL  \\\n",
       "0  https://open.spotify.com/track/1mSxbLW7fKABfeY...   \n",
       "1  https://open.spotify.com/track/05QeyKGAn4TZrv4...   \n",
       "2  https://open.spotify.com/track/1DLKuppSYytOuxh...   \n",
       "3  https://open.spotify.com/track/2CoKGyZavJWTFUP...   \n",
       "4  https://open.spotify.com/track/6wUp7y502iyWLuL...   \n",
       "\n",
       "                    YouTube Original Video URL  Original Duration  \\\n",
       "0  https://www.youtube.com/watch?v=iyJDuJggiEM             251000   \n",
       "1  https://www.youtube.com/watch?v=sWhy1VcvvgY             181000   \n",
       "2  https://www.youtube.com/watch?v=3JiMr-HgHJ8             251000   \n",
       "3  https://www.youtube.com/watch?v=IYZcsb706q8             261000   \n",
       "4  https://www.youtube.com/watch?v=WZWcpEgJZAY             132000   \n",
       "\n",
       "                  YouTube Piano Solo Video URL  Piano Solo Duration  \n",
       "0  https://www.youtube.com/watch?v=YcOyefoJec0             146000.0  \n",
       "1  https://www.youtube.com/watch?v=-OswZiQeXgc              60000.0  \n",
       "2  https://www.youtube.com/watch?v=I1kwd-UDuec             227000.0  \n",
       "3  https://www.youtube.com/watch?v=CruT6LdL-Uc             219000.0  \n",
       "4  https://www.youtube.com/watch?v=8Ba1_LfcFR0              61000.0  "
      ]
     },
     "metadata": {},
     "output_type": "display_data"
    }
   ],
   "source": [
    "# Load the dataset\n",
    "df = pd.read_csv('dataset/playlist_metadata.csv')\n",
    "\n",
    "# Show the first lines of the dataset\n",
    "print(\"First lines of the dataset:\")\n",
    "display(df.head())"
   ]
  },
  {
   "cell_type": "code",
   "execution_count": 4,
   "metadata": {},
   "outputs": [
    {
     "name": "stdout",
     "output_type": "stream",
     "text": [
      "<class 'pandas.core.frame.DataFrame'>\n",
      "RangeIndex: 941 entries, 0 to 940\n",
      "Data columns (total 10 columns):\n",
      " #   Column                        Non-Null Count  Dtype  \n",
      "---  ------                        --------------  -----  \n",
      " 0   Track Name                    941 non-null    object \n",
      " 1   Artist                        941 non-null    object \n",
      " 2   Album                         941 non-null    object \n",
      " 3   Release Date                  941 non-null    object \n",
      " 4   Spotify Duration (ms)         941 non-null    int64  \n",
      " 5   Spotify Track URL             941 non-null    object \n",
      " 6   YouTube Original Video URL    941 non-null    object \n",
      " 7   Original Duration             941 non-null    int64  \n",
      " 8   YouTube Piano Solo Video URL  510 non-null    object \n",
      " 9   Piano Solo Duration           510 non-null    float64\n",
      "dtypes: float64(1), int64(2), object(7)\n",
      "memory usage: 73.6+ KB\n"
     ]
    }
   ],
   "source": [
    "# General information about the dataset\n",
    "df.info()"
   ]
  },
  {
   "cell_type": "code",
   "execution_count": 5,
   "metadata": {},
   "outputs": [
    {
     "data": {
      "text/html": [
       "<div>\n",
       "<style scoped>\n",
       "    .dataframe tbody tr th:only-of-type {\n",
       "        vertical-align: middle;\n",
       "    }\n",
       "\n",
       "    .dataframe tbody tr th {\n",
       "        vertical-align: top;\n",
       "    }\n",
       "\n",
       "    .dataframe thead th {\n",
       "        text-align: right;\n",
       "    }\n",
       "</style>\n",
       "<table border=\"1\" class=\"dataframe\">\n",
       "  <thead>\n",
       "    <tr style=\"text-align: right;\">\n",
       "      <th></th>\n",
       "      <th>Spotify Duration (ms)</th>\n",
       "      <th>Original Duration</th>\n",
       "      <th>Piano Solo Duration</th>\n",
       "    </tr>\n",
       "  </thead>\n",
       "  <tbody>\n",
       "    <tr>\n",
       "      <th>count</th>\n",
       "      <td>941.000000</td>\n",
       "      <td>9.410000e+02</td>\n",
       "      <td>5.100000e+02</td>\n",
       "    </tr>\n",
       "    <tr>\n",
       "      <th>mean</th>\n",
       "      <td>229763.980871</td>\n",
       "      <td>2.432795e+05</td>\n",
       "      <td>1.945098e+05</td>\n",
       "    </tr>\n",
       "    <tr>\n",
       "      <th>std</th>\n",
       "      <td>60581.201821</td>\n",
       "      <td>1.986572e+05</td>\n",
       "      <td>1.243436e+05</td>\n",
       "    </tr>\n",
       "    <tr>\n",
       "      <th>min</th>\n",
       "      <td>18373.000000</td>\n",
       "      <td>6.000000e+04</td>\n",
       "      <td>6.000000e+04</td>\n",
       "    </tr>\n",
       "    <tr>\n",
       "      <th>25%</th>\n",
       "      <td>190133.000000</td>\n",
       "      <td>1.920000e+05</td>\n",
       "      <td>1.370000e+05</td>\n",
       "    </tr>\n",
       "    <tr>\n",
       "      <th>50%</th>\n",
       "      <td>225200.000000</td>\n",
       "      <td>2.290000e+05</td>\n",
       "      <td>1.815000e+05</td>\n",
       "    </tr>\n",
       "    <tr>\n",
       "      <th>75%</th>\n",
       "      <td>260346.000000</td>\n",
       "      <td>2.680000e+05</td>\n",
       "      <td>2.330000e+05</td>\n",
       "    </tr>\n",
       "    <tr>\n",
       "      <th>max</th>\n",
       "      <td>617041.000000</td>\n",
       "      <td>5.583000e+06</td>\n",
       "      <td>1.861000e+06</td>\n",
       "    </tr>\n",
       "  </tbody>\n",
       "</table>\n",
       "</div>"
      ],
      "text/plain": [
       "       Spotify Duration (ms)  Original Duration  Piano Solo Duration\n",
       "count             941.000000       9.410000e+02         5.100000e+02\n",
       "mean           229763.980871       2.432795e+05         1.945098e+05\n",
       "std             60581.201821       1.986572e+05         1.243436e+05\n",
       "min             18373.000000       6.000000e+04         6.000000e+04\n",
       "25%            190133.000000       1.920000e+05         1.370000e+05\n",
       "50%            225200.000000       2.290000e+05         1.815000e+05\n",
       "75%            260346.000000       2.680000e+05         2.330000e+05\n",
       "max            617041.000000       5.583000e+06         1.861000e+06"
      ]
     },
     "metadata": {},
     "output_type": "display_data"
    }
   ],
   "source": [
    "# Descriptive statistics\n",
    "display(df.describe())"
   ]
  },
  {
   "cell_type": "code",
   "execution_count": 6,
   "metadata": {},
   "outputs": [
    {
     "name": "stdout",
     "output_type": "stream",
     "text": [
      "Total of songs: 941\n",
      "Total of unique artists: 189\n",
      "Total of unique albums: 595\n"
     ]
    }
   ],
   "source": [
    "# General statistics\n",
    "print(f\"Total of songs: {len(df)}\")\n",
    "print(f\"Total of unique artists: {df['Artist'].nunique()}\")\n",
    "print(f\"Total of unique albums: {df['Album'].nunique()}\")"
   ]
  },
  {
   "cell_type": "code",
   "execution_count": 7,
   "metadata": {},
   "outputs": [
    {
     "data": {
      "text/plain": [
       "Track Name                        0\n",
       "Artist                            0\n",
       "Album                             0\n",
       "Release Date                      0\n",
       "Spotify Duration (ms)             0\n",
       "Spotify Track URL                 0\n",
       "YouTube Original Video URL        0\n",
       "Original Duration                 0\n",
       "YouTube Piano Solo Video URL    431\n",
       "Piano Solo Duration             431\n",
       "dtype: int64"
      ]
     },
     "metadata": {},
     "output_type": "display_data"
    }
   ],
   "source": [
    "# Checking for null values\n",
    "display(df.isnull().sum())"
   ]
  },
  {
   "cell_type": "code",
   "execution_count": 8,
   "metadata": {},
   "outputs": [
    {
     "data": {
      "text/plain": [
       "510"
      ]
     },
     "execution_count": 8,
     "metadata": {},
     "output_type": "execute_result"
    }
   ],
   "source": [
    "# Dropping rows with null values in 'YouTube Piano Solo Video URL' and 'Piano Solo Duration'\n",
    "df = df.dropna(subset=['YouTube Piano Solo Video URL', 'Piano Solo Duration'])\n",
    "len(df)"
   ]
  },
  {
   "cell_type": "code",
   "execution_count": 9,
   "metadata": {},
   "outputs": [
    {
     "data": {
      "text/plain": [
       "Chico Buarque        37\n",
       "Caetano Veloso       36\n",
       "Djavan               25\n",
       "ANAVITÓRIA           22\n",
       "Milton Nascimento    19\n",
       "Marisa Monte         19\n",
       "Gilberto Gil         17\n",
       "Gal Costa            14\n",
       "Elis Regina          14\n",
       "Maria Bethânia       12\n",
       "Name: Artist, dtype: int64"
      ]
     },
     "metadata": {},
     "output_type": "display_data"
    },
    {
     "data": {
      "image/png": "[encoded data removed]",
      "text/plain": [
       "<Figure size 1200x600 with 1 Axes>"
      ]
     },
     "metadata": {},
     "output_type": "display_data"
    }
   ],
   "source": [
    "# Artists analysis\n",
    "display(df['Artist'].value_counts().head(10))\n",
    "\n",
    "# Visualization of the most frequent artists\n",
    "plt.figure(figsize=(12, 6))\n",
    "df['Artist'].value_counts().head(10).plot(kind='bar')\n",
    "plt.title('Top 10 most frequent artists')\n",
    "plt.xlabel('Artist')\n",
    "plt.ylabel('Number of songs')\n",
    "plt.xticks(rotation=45, ha='right')\n",
    "plt.tight_layout()\n",
    "plt.show()"
   ]
  },
  {
   "cell_type": "code",
   "execution_count": 10,
   "metadata": {},
   "outputs": [
    {
     "name": "stderr",
     "output_type": "stream",
     "text": [
      "/var/folders/2l/dw3h_m3n5_x9ljsn9qdpxf4h0000gn/T/ipykernel_99592/3445717295.py:2: UserWarning: Parsing dates in DD/MM/YYYY format when dayfirst=False (the default) was specified. This may lead to inconsistently parsed dates! Specify a format to ensure consistent parsing.\n",
      "  df['Release Date'] = pd.to_datetime(df['Release Date'])\n"
     ]
    },
    {
     "data": {
      "image/png": "[encoded data removed]",
      "text/plain": [
       "<Figure size 1500x600 with 1 Axes>"
      ]
     },
     "metadata": {},
     "output_type": "display_data"
    },
    {
     "name": "stdout",
     "output_type": "stream",
     "text": [
      "\n",
      "Period covered: from 1961 to 2025\n"
     ]
    }
   ],
   "source": [
    "# Temporal analysis\n",
    "df['Release Date'] = pd.to_datetime(df['Release Date'])\n",
    "df['Year'] = df['Release Date'].dt.year\n",
    "\n",
    "plt.figure(figsize=(15, 6))\n",
    "sns.histplot(data=df, x='Year', bins=30)\n",
    "plt.title('Distribution of songs by release year')\n",
    "plt.xlabel('Year')\n",
    "plt.ylabel('Number of songs')\n",
    "plt.grid(True)\n",
    "plt.show()\n",
    "\n",
    "print(f\"\\nPeriod covered: from {df['Year'].min()} to {df['Year'].max()}\")"
   ]
  },
  {
   "cell_type": "code",
   "execution_count": 11,
   "metadata": {},
   "outputs": [
    {
     "data": {
      "text/plain": [
       "1960     22\n",
       "1970     72\n",
       "1980     77\n",
       "1990     85\n",
       "2000    108\n",
       "2010    113\n",
       "2020     33\n",
       "Name: Decade, dtype: int64"
      ]
     },
     "metadata": {},
     "output_type": "display_data"
    }
   ],
   "source": [
    "# Songs by decade\n",
    "df['Decade'] = (df['Year'] // 10) * 10\n",
    "display(df['Decade'].value_counts().sort_index())"
   ]
  },
  {
   "cell_type": "code",
   "execution_count": 12,
   "metadata": {},
   "outputs": [
    {
     "data": {
      "image/png": "[encoded data removed]",
      "text/plain": [
       "<Figure size 1000x600 with 1 Axes>"
      ]
     },
     "metadata": {},
     "output_type": "display_data"
    }
   ],
   "source": [
    "# Duration analysis\n",
    "# Convert durations to minutes\n",
    "df['Spotify Duration (min)'] = df['Spotify Duration (ms)'] / 60000\n",
    "df['Original Duration (min)'] = df['Original Duration'] / 60000\n",
    "df['Piano Duration (min)'] = df['Piano Solo Duration'] / 60000\n",
    "\n",
    "# Comparison of durations\n",
    "duration_comparison = pd.DataFrame({\n",
    "    'Spotify': df['Spotify Duration (min)'],\n",
    "    'YouTube Original': df['Original Duration (min)'],\n",
    "    'YouTube Piano': df['Piano Duration (min)']\n",
    "})\n",
    "\n",
    "plt.figure(figsize=(10, 6))\n",
    "sns.boxplot(data=duration_comparison)\n",
    "plt.title('Comparison of durations')\n",
    "plt.ylabel('Duration (minutes)')\n",
    "plt.show()"
   ]
  },
  {
   "cell_type": "code",
   "execution_count": 13,
   "metadata": {},
   "outputs": [
    {
     "name": "stdout",
     "output_type": "stream",
     "text": [
      "\n",
      "Duration statistics (in minutes):\n"
     ]
    },
    {
     "data": {
      "text/html": [
       "<div>\n",
       "<style scoped>\n",
       "    .dataframe tbody tr th:only-of-type {\n",
       "        vertical-align: middle;\n",
       "    }\n",
       "\n",
       "    .dataframe tbody tr th {\n",
       "        vertical-align: top;\n",
       "    }\n",
       "\n",
       "    .dataframe thead th {\n",
       "        text-align: right;\n",
       "    }\n",
       "</style>\n",
       "<table border=\"1\" class=\"dataframe\">\n",
       "  <thead>\n",
       "    <tr style=\"text-align: right;\">\n",
       "      <th></th>\n",
       "      <th>Spotify</th>\n",
       "      <th>YouTube Original</th>\n",
       "      <th>YouTube Piano</th>\n",
       "    </tr>\n",
       "  </thead>\n",
       "  <tbody>\n",
       "    <tr>\n",
       "      <th>count</th>\n",
       "      <td>510.000000</td>\n",
       "      <td>510.000000</td>\n",
       "      <td>510.000000</td>\n",
       "    </tr>\n",
       "    <tr>\n",
       "      <th>mean</th>\n",
       "      <td>3.818055</td>\n",
       "      <td>4.098889</td>\n",
       "      <td>3.241830</td>\n",
       "    </tr>\n",
       "    <tr>\n",
       "      <th>std</th>\n",
       "      <td>0.901611</td>\n",
       "      <td>4.065777</td>\n",
       "      <td>2.072394</td>\n",
       "    </tr>\n",
       "    <tr>\n",
       "      <th>min</th>\n",
       "      <td>0.306217</td>\n",
       "      <td>1.650000</td>\n",
       "      <td>1.000000</td>\n",
       "    </tr>\n",
       "    <tr>\n",
       "      <th>25%</th>\n",
       "      <td>3.237621</td>\n",
       "      <td>3.254167</td>\n",
       "      <td>2.283333</td>\n",
       "    </tr>\n",
       "    <tr>\n",
       "      <th>50%</th>\n",
       "      <td>3.784550</td>\n",
       "      <td>3.850000</td>\n",
       "      <td>3.025000</td>\n",
       "    </tr>\n",
       "    <tr>\n",
       "      <th>75%</th>\n",
       "      <td>4.307158</td>\n",
       "      <td>4.429167</td>\n",
       "      <td>3.883333</td>\n",
       "    </tr>\n",
       "    <tr>\n",
       "      <th>max</th>\n",
       "      <td>6.991550</td>\n",
       "      <td>93.050000</td>\n",
       "      <td>31.016667</td>\n",
       "    </tr>\n",
       "  </tbody>\n",
       "</table>\n",
       "</div>"
      ],
      "text/plain": [
       "          Spotify  YouTube Original  YouTube Piano\n",
       "count  510.000000        510.000000     510.000000\n",
       "mean     3.818055          4.098889       3.241830\n",
       "std      0.901611          4.065777       2.072394\n",
       "min      0.306217          1.650000       1.000000\n",
       "25%      3.237621          3.254167       2.283333\n",
       "50%      3.784550          3.850000       3.025000\n",
       "75%      4.307158          4.429167       3.883333\n",
       "max      6.991550         93.050000      31.016667"
      ]
     },
     "metadata": {},
     "output_type": "display_data"
    }
   ],
   "source": [
    "# Duration statistics\n",
    "print(\"\\nDuration statistics (in minutes):\")\n",
    "display(duration_comparison.describe())"
   ]
  },
  {
   "cell_type": "code",
   "execution_count": 14,
   "metadata": {},
   "outputs": [
    {
     "data": {
      "image/png": "[encoded data removed]",
      "text/plain": [
       "<Figure size 1000x600 with 2 Axes>"
      ]
     },
     "metadata": {},
     "output_type": "display_data"
    }
   ],
   "source": [
    "# Correlation between durations\n",
    "plt.figure(figsize=(10, 6))\n",
    "sns.heatmap(duration_comparison.corr(), annot=True, cmap='coolwarm')\n",
    "plt.title('Correlation between durations')\n",
    "plt.show()"
   ]
  },
  {
   "cell_type": "code",
   "execution_count": 15,
   "metadata": {},
   "outputs": [
    {
     "name": "stdout",
     "output_type": "stream",
     "text": [
      "Number of songs per album:\n"
     ]
    },
    {
     "data": {
      "text/plain": [
       "Tribalistas         9\n",
       "Djavan \"Ao Vivo\"    8\n",
       "Chico Buarque       5\n",
       "O Tempo É Agora     5\n",
       "ANAVITÓRIA          5\n",
       "Esquinas            5\n",
       "Luz                 4\n",
       "Alucinacao          4\n",
       "Caetano Veloso      4\n",
       "Um banda um         4\n",
       "Name: Album, dtype: int64"
      ]
     },
     "metadata": {},
     "output_type": "display_data"
    },
    {
     "data": {
      "image/png": "[encoded data removed]",
      "text/plain": [
       "<Figure size 1200x600 with 1 Axes>"
      ]
     },
     "metadata": {},
     "output_type": "display_data"
    }
   ],
   "source": [
    "# Album analysis\n",
    "print(\"Number of songs per album:\")\n",
    "album_counts = df['Album'].value_counts()\n",
    "display(album_counts.head(10))\n",
    "\n",
    "plt.figure(figsize=(12, 6))\n",
    "sns.barplot(x=album_counts.head(10).values, y=album_counts.head(10).index)\n",
    "plt.title('Top 10 albums with most songs')\n",
    "plt.xlabel('Number of songs')\n",
    "plt.tight_layout()\n",
    "plt.show()"
   ]
  },
  {
   "cell_type": "code",
   "execution_count": 16,
   "metadata": {},
   "outputs": [
    {
     "data": {
      "image/png": "[encoded data removed]",
      "text/plain": [
       "<Figure size 1200x600 with 1 Axes>"
      ]
     },
     "metadata": {},
     "output_type": "display_data"
    }
   ],
   "source": [
    "# Calculating differences between durations\n",
    "df['Diff_Original_Piano'] = df['Original Duration (min)'] - df['Piano Duration (min)']\n",
    "\n",
    "# Visualizing the distribution of differences\n",
    "plt.figure(figsize=(12, 6))\n",
    "sns.histplot(data=df, x='Diff_Original_Piano', bins=30)\n",
    "plt.title('Distribution of the difference between original and piano duration')\n",
    "plt.xlabel('Difference in minutes (Original - Piano)')\n",
    "plt.ylabel('Frequency')\n",
    "plt.show()"
   ]
  },
  {
   "cell_type": "code",
   "execution_count": 17,
   "metadata": {},
   "outputs": [
    {
     "data": {
      "text/html": [
       "<div>\n",
       "<style scoped>\n",
       "    .dataframe tbody tr th:only-of-type {\n",
       "        vertical-align: middle;\n",
       "    }\n",
       "\n",
       "    .dataframe tbody tr th {\n",
       "        vertical-align: top;\n",
       "    }\n",
       "\n",
       "    .dataframe thead th {\n",
       "        text-align: right;\n",
       "    }\n",
       "</style>\n",
       "<table border=\"1\" class=\"dataframe\">\n",
       "  <thead>\n",
       "    <tr style=\"text-align: right;\">\n",
       "      <th></th>\n",
       "      <th>Track Name</th>\n",
       "      <th>Artist</th>\n",
       "      <th>Original Duration (min)</th>\n",
       "      <th>Piano Duration (min)</th>\n",
       "      <th>Diff_Original_Piano</th>\n",
       "    </tr>\n",
       "  </thead>\n",
       "  <tbody>\n",
       "    <tr>\n",
       "      <th>126</th>\n",
       "      <td>Carta de Amor (Ao Vivo)</td>\n",
       "      <td>Maria Bethânia</td>\n",
       "      <td>93.050000</td>\n",
       "      <td>3.000000</td>\n",
       "      <td>90.050000</td>\n",
       "    </tr>\n",
       "    <tr>\n",
       "      <th>472</th>\n",
       "      <td>Com A Perna No Mundo</td>\n",
       "      <td>Gonzaguinha</td>\n",
       "      <td>10.866667</td>\n",
       "      <td>4.833333</td>\n",
       "      <td>6.033333</td>\n",
       "    </tr>\n",
       "    <tr>\n",
       "      <th>829</th>\n",
       "      <td>Quem Me Segurou Foi Deus</td>\n",
       "      <td>Nelsinho Corrêa</td>\n",
       "      <td>7.033333</td>\n",
       "      <td>1.016667</td>\n",
       "      <td>6.016667</td>\n",
       "    </tr>\n",
       "    <tr>\n",
       "      <th>926</th>\n",
       "      <td>Flutua</td>\n",
       "      <td>Johnny Hooker</td>\n",
       "      <td>7.416667</td>\n",
       "      <td>2.616667</td>\n",
       "      <td>4.800000</td>\n",
       "    </tr>\n",
       "    <tr>\n",
       "      <th>457</th>\n",
       "      <td>Meu Caro Amigo</td>\n",
       "      <td>Chico Buarque</td>\n",
       "      <td>5.733333</td>\n",
       "      <td>1.133333</td>\n",
       "      <td>4.600000</td>\n",
       "    </tr>\n",
       "  </tbody>\n",
       "</table>\n",
       "</div>"
      ],
      "text/plain": [
       "                   Track Name           Artist  Original Duration (min)  \\\n",
       "126   Carta de Amor (Ao Vivo)   Maria Bethânia                93.050000   \n",
       "472      Com A Perna No Mundo      Gonzaguinha                10.866667   \n",
       "829  Quem Me Segurou Foi Deus  Nelsinho Corrêa                 7.033333   \n",
       "926                    Flutua    Johnny Hooker                 7.416667   \n",
       "457            Meu Caro Amigo    Chico Buarque                 5.733333   \n",
       "\n",
       "     Piano Duration (min)  Diff_Original_Piano  \n",
       "126              3.000000            90.050000  \n",
       "472              4.833333             6.033333  \n",
       "829              1.016667             6.016667  \n",
       "926              2.616667             4.800000  \n",
       "457              1.133333             4.600000  "
      ]
     },
     "metadata": {},
     "output_type": "display_data"
    }
   ],
   "source": [
    "# Top 5 largest differences\n",
    "display(df.nlargest(5, 'Diff_Original_Piano')[['Track Name', 'Artist', 'Original Duration (min)', 'Piano Duration (min)', 'Diff_Original_Piano']])"
   ]
  },
  {
   "cell_type": "code",
   "execution_count": 18,
   "metadata": {},
   "outputs": [
    {
     "name": "stdout",
     "output_type": "stream",
     "text": [
      "Spotify: 3.82\n",
      "YouTube Original: 4.10\n",
      "YouTube Piano: 3.24\n"
     ]
    }
   ],
   "source": [
    "# Average duration by version\n",
    "print(f\"Spotify: {df['Spotify Duration (min)'].mean():.2f}\")\n",
    "print(f\"YouTube Original: {df['Original Duration (min)'].mean():.2f}\")\n",
    "print(f\"YouTube Piano: {df['Piano Duration (min)'].mean():.2f}\")"
   ]
  },
  {
   "cell_type": "code",
   "execution_count": 19,
   "metadata": {},
   "outputs": [],
   "source": [
    "# Minimizing outliers based on the IQR method for the specified columns\n",
    "def remove_duration_outliers(df, columns, n_std=1.5):\n",
    "    df_clean = df.copy()\n",
    "    \n",
    "    for column in columns:\n",
    "        # Calculating Q1, Q3 and IQR\n",
    "        Q1 = df[column].quantile(0.25)\n",
    "        Q3 = df[column].quantile(0.75)\n",
    "        IQR = Q3 - Q1\n",
    "        \n",
    "        # Defining limits for outliers\n",
    "        lower_bound = Q1 - n_std * IQR\n",
    "        upper_bound = Q3 + n_std * IQR\n",
    "        \n",
    "        # Creating mask for values within the limits\n",
    "        mask = (df[column] >= lower_bound) & (df[column] <= upper_bound)\n",
    "        df_clean = df_clean[mask]\n",
    "    \n",
    "    return df_clean"
   ]
  },
  {
   "cell_type": "code",
   "execution_count": 20,
   "metadata": {},
   "outputs": [
    {
     "name": "stderr",
     "output_type": "stream",
     "text": [
      "/var/folders/2l/dw3h_m3n5_x9ljsn9qdpxf4h0000gn/T/ipykernel_99592/3976421838.py:17: UserWarning: Boolean Series key will be reindexed to match DataFrame index.\n",
      "  df_clean = df_clean[mask]\n"
     ]
    }
   ],
   "source": [
    "# Minimizing outliers\n",
    "duration_columns = ['Original Duration (min)', 'Piano Duration (min)']\n",
    "df_no_outliers = remove_duration_outliers(df, duration_columns)"
   ]
  },
  {
   "cell_type": "code",
   "execution_count": 21,
   "metadata": {},
   "outputs": [
    {
     "data": {
      "image/png": "[encoded data removed]",
      "text/plain": [
       "<Figure size 640x480 with 1 Axes>"
      ]
     },
     "metadata": {},
     "output_type": "display_data"
    }
   ],
   "source": [
    "# Visualizing distribution after minimizing outliers\n",
    "plt.subplot(1, 2, 2)\n",
    "sns.boxplot(data=[df_no_outliers['Original Duration (min)'], df_no_outliers['Piano Duration (min)']])\n",
    "plt.title('Distribution of durations (Without Outliers)')\n",
    "plt.xticks([0, 1], ['Original', 'Piano'])\n",
    "plt.ylabel('Duration (minutes)')\n",
    "\n",
    "plt.tight_layout()\n",
    "plt.show()"
   ]
  },
  {
   "cell_type": "code",
   "execution_count": 22,
   "metadata": {},
   "outputs": [
    {
     "name": "stdout",
     "output_type": "stream",
     "text": [
      "Number of original songs: 510\n",
      "Number of songs after removing outliers: 485\n",
      "Number of removed outliers: 25\n"
     ]
    }
   ],
   "source": [
    "# Showing statistics\n",
    "print(f\"Number of original songs: {len(df)}\")\n",
    "print(f\"Number of songs after removing outliers: {len(df_no_outliers)}\")\n",
    "print(f\"Number of removed outliers: {len(df) - len(df_no_outliers)}\")"
   ]
  },
  {
   "cell_type": "code",
   "execution_count": 23,
   "metadata": {},
   "outputs": [
    {
     "data": {
      "text/html": [
       "<div>\n",
       "<style scoped>\n",
       "    .dataframe tbody tr th:only-of-type {\n",
       "        vertical-align: middle;\n",
       "    }\n",
       "\n",
       "    .dataframe tbody tr th {\n",
       "        vertical-align: top;\n",
       "    }\n",
       "\n",
       "    .dataframe thead th {\n",
       "        text-align: right;\n",
       "    }\n",
       "</style>\n",
       "<table border=\"1\" class=\"dataframe\">\n",
       "  <thead>\n",
       "    <tr style=\"text-align: right;\">\n",
       "      <th></th>\n",
       "      <th>Track Name</th>\n",
       "      <th>Artist</th>\n",
       "      <th>Original Duration (min)</th>\n",
       "      <th>Piano Duration (min)</th>\n",
       "    </tr>\n",
       "  </thead>\n",
       "  <tbody>\n",
       "    <tr>\n",
       "      <th>7</th>\n",
       "      <td>Construção</td>\n",
       "      <td>Chico Buarque</td>\n",
       "      <td>6.416667</td>\n",
       "      <td>2.733333</td>\n",
       "    </tr>\n",
       "    <tr>\n",
       "      <th>26</th>\n",
       "      <td>Um Amor Puro</td>\n",
       "      <td>Djavan</td>\n",
       "      <td>5.483333</td>\n",
       "      <td>9.000000</td>\n",
       "    </tr>\n",
       "    <tr>\n",
       "      <th>58</th>\n",
       "      <td>Mais Ninguém</td>\n",
       "      <td>Banda do Mar</td>\n",
       "      <td>2.800000</td>\n",
       "      <td>9.433333</td>\n",
       "    </tr>\n",
       "    <tr>\n",
       "      <th>64</th>\n",
       "      <td>Lembra de Mim - Ao Vivo</td>\n",
       "      <td>Ivan Lins</td>\n",
       "      <td>4.316667</td>\n",
       "      <td>10.866667</td>\n",
       "    </tr>\n",
       "    <tr>\n",
       "      <th>90</th>\n",
       "      <td>Lágrimas Negras</td>\n",
       "      <td>Gal Costa</td>\n",
       "      <td>4.050000</td>\n",
       "      <td>6.300000</td>\n",
       "    </tr>\n",
       "    <tr>\n",
       "      <th>123</th>\n",
       "      <td>Minto pra quem perguntar</td>\n",
       "      <td>ANAVITÓRIA</td>\n",
       "      <td>3.133333</td>\n",
       "      <td>6.750000</td>\n",
       "    </tr>\n",
       "    <tr>\n",
       "      <th>124</th>\n",
       "      <td>Quando Bate Aquela Saudade</td>\n",
       "      <td>Rubel</td>\n",
       "      <td>6.750000</td>\n",
       "      <td>3.066667</td>\n",
       "    </tr>\n",
       "    <tr>\n",
       "      <th>126</th>\n",
       "      <td>Carta de Amor (Ao Vivo)</td>\n",
       "      <td>Maria Bethânia</td>\n",
       "      <td>93.050000</td>\n",
       "      <td>3.000000</td>\n",
       "    </tr>\n",
       "    <tr>\n",
       "      <th>133</th>\n",
       "      <td>Partilhar</td>\n",
       "      <td>Rubel</td>\n",
       "      <td>7.050000</td>\n",
       "      <td>3.983333</td>\n",
       "    </tr>\n",
       "    <tr>\n",
       "      <th>158</th>\n",
       "      <td>Cacador De Mim</td>\n",
       "      <td>Milton Nascimento</td>\n",
       "      <td>6.550000</td>\n",
       "      <td>2.216667</td>\n",
       "    </tr>\n",
       "    <tr>\n",
       "      <th>164</th>\n",
       "      <td>É Você</td>\n",
       "      <td>Pedro Caetano</td>\n",
       "      <td>2.466667</td>\n",
       "      <td>8.000000</td>\n",
       "    </tr>\n",
       "    <tr>\n",
       "      <th>202</th>\n",
       "      <td>Seu Olhar</td>\n",
       "      <td>Seu Jorge</td>\n",
       "      <td>6.450000</td>\n",
       "      <td>2.250000</td>\n",
       "    </tr>\n",
       "    <tr>\n",
       "      <th>220</th>\n",
       "      <td>Entre o Bem e o Mal</td>\n",
       "      <td>Johnny Hooker</td>\n",
       "      <td>3.700000</td>\n",
       "      <td>31.016667</td>\n",
       "    </tr>\n",
       "    <tr>\n",
       "      <th>275</th>\n",
       "      <td>Tigresa - Original Album</td>\n",
       "      <td>Caetano Veloso</td>\n",
       "      <td>6.350000</td>\n",
       "      <td>4.333333</td>\n",
       "    </tr>\n",
       "    <tr>\n",
       "      <th>303</th>\n",
       "      <td>Partilhar</td>\n",
       "      <td>Rubel</td>\n",
       "      <td>7.050000</td>\n",
       "      <td>3.983333</td>\n",
       "    </tr>\n",
       "    <tr>\n",
       "      <th>314</th>\n",
       "      <td>Distâncias</td>\n",
       "      <td>João Bosco</td>\n",
       "      <td>6.083333</td>\n",
       "      <td>25.833333</td>\n",
       "    </tr>\n",
       "    <tr>\n",
       "      <th>472</th>\n",
       "      <td>Com A Perna No Mundo</td>\n",
       "      <td>Gonzaguinha</td>\n",
       "      <td>10.866667</td>\n",
       "      <td>4.833333</td>\n",
       "    </tr>\n",
       "    <tr>\n",
       "      <th>485</th>\n",
       "      <td>Preta pretinha</td>\n",
       "      <td>Novos Baianos</td>\n",
       "      <td>6.250000</td>\n",
       "      <td>2.533333</td>\n",
       "    </tr>\n",
       "    <tr>\n",
       "      <th>597</th>\n",
       "      <td>Brasil pandeiro</td>\n",
       "      <td>Novos Baianos</td>\n",
       "      <td>3.900000</td>\n",
       "      <td>6.850000</td>\n",
       "    </tr>\n",
       "    <tr>\n",
       "      <th>637</th>\n",
       "      <td>Pensar Em Você</td>\n",
       "      <td>Chico César</td>\n",
       "      <td>4.000000</td>\n",
       "      <td>7.433333</td>\n",
       "    </tr>\n",
       "    <tr>\n",
       "      <th>715</th>\n",
       "      <td>Sozinho</td>\n",
       "      <td>Peninha</td>\n",
       "      <td>6.333333</td>\n",
       "      <td>3.016667</td>\n",
       "    </tr>\n",
       "    <tr>\n",
       "      <th>722</th>\n",
       "      <td>Só Posso Dizer (São Paulo)</td>\n",
       "      <td>Nando Reis</td>\n",
       "      <td>3.316667</td>\n",
       "      <td>9.233333</td>\n",
       "    </tr>\n",
       "    <tr>\n",
       "      <th>829</th>\n",
       "      <td>Quem Me Segurou Foi Deus</td>\n",
       "      <td>Nelsinho Corrêa</td>\n",
       "      <td>7.033333</td>\n",
       "      <td>1.016667</td>\n",
       "    </tr>\n",
       "    <tr>\n",
       "      <th>870</th>\n",
       "      <td>Pra Você Guardei O Amor</td>\n",
       "      <td>Nando Reis</td>\n",
       "      <td>5.716667</td>\n",
       "      <td>6.516667</td>\n",
       "    </tr>\n",
       "    <tr>\n",
       "      <th>926</th>\n",
       "      <td>Flutua</td>\n",
       "      <td>Johnny Hooker</td>\n",
       "      <td>7.416667</td>\n",
       "      <td>2.616667</td>\n",
       "    </tr>\n",
       "  </tbody>\n",
       "</table>\n",
       "</div>"
      ],
      "text/plain": [
       "                     Track Name             Artist  Original Duration (min)  \\\n",
       "7                    Construção      Chico Buarque                 6.416667   \n",
       "26                 Um Amor Puro             Djavan                 5.483333   \n",
       "58                 Mais Ninguém       Banda do Mar                 2.800000   \n",
       "64      Lembra de Mim - Ao Vivo          Ivan Lins                 4.316667   \n",
       "90              Lágrimas Negras          Gal Costa                 4.050000   \n",
       "123    Minto pra quem perguntar         ANAVITÓRIA                 3.133333   \n",
       "124  Quando Bate Aquela Saudade              Rubel                 6.750000   \n",
       "126     Carta de Amor (Ao Vivo)     Maria Bethânia                93.050000   \n",
       "133                   Partilhar              Rubel                 7.050000   \n",
       "158              Cacador De Mim  Milton Nascimento                 6.550000   \n",
       "164                      É Você      Pedro Caetano                 2.466667   \n",
       "202                   Seu Olhar          Seu Jorge                 6.450000   \n",
       "220         Entre o Bem e o Mal      Johnny Hooker                 3.700000   \n",
       "275    Tigresa - Original Album     Caetano Veloso                 6.350000   \n",
       "303                   Partilhar              Rubel                 7.050000   \n",
       "314                  Distâncias         João Bosco                 6.083333   \n",
       "472        Com A Perna No Mundo        Gonzaguinha                10.866667   \n",
       "485              Preta pretinha      Novos Baianos                 6.250000   \n",
       "597             Brasil pandeiro      Novos Baianos                 3.900000   \n",
       "637              Pensar Em Você        Chico César                 4.000000   \n",
       "715                     Sozinho            Peninha                 6.333333   \n",
       "722  Só Posso Dizer (São Paulo)         Nando Reis                 3.316667   \n",
       "829    Quem Me Segurou Foi Deus    Nelsinho Corrêa                 7.033333   \n",
       "870     Pra Você Guardei O Amor         Nando Reis                 5.716667   \n",
       "926                      Flutua      Johnny Hooker                 7.416667   \n",
       "\n",
       "     Piano Duration (min)  \n",
       "7                2.733333  \n",
       "26               9.000000  \n",
       "58               9.433333  \n",
       "64              10.866667  \n",
       "90               6.300000  \n",
       "123              6.750000  \n",
       "124              3.066667  \n",
       "126              3.000000  \n",
       "133              3.983333  \n",
       "158              2.216667  \n",
       "164              8.000000  \n",
       "202              2.250000  \n",
       "220             31.016667  \n",
       "275              4.333333  \n",
       "303              3.983333  \n",
       "314             25.833333  \n",
       "472              4.833333  \n",
       "485              2.533333  \n",
       "597              6.850000  \n",
       "637              7.433333  \n",
       "715              3.016667  \n",
       "722              9.233333  \n",
       "829              1.016667  \n",
       "870              6.516667  \n",
       "926              2.616667  "
      ]
     },
     "metadata": {},
     "output_type": "display_data"
    }
   ],
   "source": [
    "# Showing the removed songs (outliers)\n",
    "outliers_mask = ~df.index.isin(df_no_outliers.index)\n",
    "display(df[outliers_mask][['Track Name', 'Artist', 'Original Duration (min)', 'Piano Duration (min)']])"
   ]
  },
  {
   "cell_type": "code",
   "execution_count": 24,
   "metadata": {},
   "outputs": [
    {
     "data": {
      "text/html": [
       "<div>\n",
       "<style scoped>\n",
       "    .dataframe tbody tr th:only-of-type {\n",
       "        vertical-align: middle;\n",
       "    }\n",
       "\n",
       "    .dataframe tbody tr th {\n",
       "        vertical-align: top;\n",
       "    }\n",
       "\n",
       "    .dataframe thead th {\n",
       "        text-align: right;\n",
       "    }\n",
       "</style>\n",
       "<table border=\"1\" class=\"dataframe\">\n",
       "  <thead>\n",
       "    <tr style=\"text-align: right;\">\n",
       "      <th></th>\n",
       "      <th>Original Duration (min)</th>\n",
       "      <th>Piano Duration (min)</th>\n",
       "    </tr>\n",
       "  </thead>\n",
       "  <tbody>\n",
       "    <tr>\n",
       "      <th>count</th>\n",
       "      <td>485.000000</td>\n",
       "      <td>485.000000</td>\n",
       "    </tr>\n",
       "    <tr>\n",
       "      <th>mean</th>\n",
       "      <td>3.843093</td>\n",
       "      <td>3.044364</td>\n",
       "    </tr>\n",
       "    <tr>\n",
       "      <th>std</th>\n",
       "      <td>0.830614</td>\n",
       "      <td>1.132806</td>\n",
       "    </tr>\n",
       "    <tr>\n",
       "      <th>min</th>\n",
       "      <td>1.650000</td>\n",
       "      <td>1.000000</td>\n",
       "    </tr>\n",
       "    <tr>\n",
       "      <th>25%</th>\n",
       "      <td>3.250000</td>\n",
       "      <td>2.250000</td>\n",
       "    </tr>\n",
       "    <tr>\n",
       "      <th>50%</th>\n",
       "      <td>3.816667</td>\n",
       "      <td>3.016667</td>\n",
       "    </tr>\n",
       "    <tr>\n",
       "      <th>75%</th>\n",
       "      <td>4.383333</td>\n",
       "      <td>3.766667</td>\n",
       "    </tr>\n",
       "    <tr>\n",
       "      <th>max</th>\n",
       "      <td>6.150000</td>\n",
       "      <td>6.283333</td>\n",
       "    </tr>\n",
       "  </tbody>\n",
       "</table>\n",
       "</div>"
      ],
      "text/plain": [
       "       Original Duration (min)  Piano Duration (min)\n",
       "count               485.000000            485.000000\n",
       "mean                  3.843093              3.044364\n",
       "std                   0.830614              1.132806\n",
       "min                   1.650000              1.000000\n",
       "25%                   3.250000              2.250000\n",
       "50%                   3.816667              3.016667\n",
       "75%                   4.383333              3.766667\n",
       "max                   6.150000              6.283333"
      ]
     },
     "metadata": {},
     "output_type": "display_data"
    }
   ],
   "source": [
    "# Statistics of durations after removing outliers\n",
    "display(df_no_outliers[duration_columns].describe())"
   ]
  },
  {
   "cell_type": "code",
   "execution_count": 25,
   "metadata": {},
   "outputs": [
    {
     "data": {
      "text/html": [
       "<div>\n",
       "<style scoped>\n",
       "    .dataframe tbody tr th:only-of-type {\n",
       "        vertical-align: middle;\n",
       "    }\n",
       "\n",
       "    .dataframe tbody tr th {\n",
       "        vertical-align: top;\n",
       "    }\n",
       "\n",
       "    .dataframe thead th {\n",
       "        text-align: right;\n",
       "    }\n",
       "</style>\n",
       "<table border=\"1\" class=\"dataframe\">\n",
       "  <thead>\n",
       "    <tr style=\"text-align: right;\">\n",
       "      <th></th>\n",
       "      <th>Track Name</th>\n",
       "      <th>Artist</th>\n",
       "      <th>Album</th>\n",
       "      <th>Release Date</th>\n",
       "      <th>Spotify Duration (ms)</th>\n",
       "      <th>Spotify Track URL</th>\n",
       "      <th>YouTube Original Video URL</th>\n",
       "      <th>Original Duration</th>\n",
       "      <th>YouTube Piano Solo Video URL</th>\n",
       "      <th>Piano Solo Duration</th>\n",
       "      <th>Year</th>\n",
       "      <th>Decade</th>\n",
       "      <th>Spotify Duration (min)</th>\n",
       "      <th>Original Duration (min)</th>\n",
       "      <th>Piano Duration (min)</th>\n",
       "      <th>Diff_Original_Piano</th>\n",
       "    </tr>\n",
       "  </thead>\n",
       "  <tbody>\n",
       "    <tr>\n",
       "      <th>0</th>\n",
       "      <td>Velha Infância - 2004 Digital Remaster</td>\n",
       "      <td>Tribalistas</td>\n",
       "      <td>Tribalistas</td>\n",
       "      <td>2002-01-01</td>\n",
       "      <td>250440</td>\n",
       "      <td>https://open.spotify.com/track/1mSxbLW7fKABfeY...</td>\n",
       "      <td>https://www.youtube.com/watch?v=iyJDuJggiEM</td>\n",
       "      <td>251000</td>\n",
       "      <td>https://www.youtube.com/watch?v=YcOyefoJec0</td>\n",
       "      <td>146000.0</td>\n",
       "      <td>2002</td>\n",
       "      <td>2000</td>\n",
       "      <td>4.174000</td>\n",
       "      <td>4.183333</td>\n",
       "      <td>2.433333</td>\n",
       "      <td>1.750000</td>\n",
       "    </tr>\n",
       "    <tr>\n",
       "      <th>1</th>\n",
       "      <td>Trem-Bala</td>\n",
       "      <td>Ana Vilela</td>\n",
       "      <td>Trem-Bala</td>\n",
       "      <td>2017-12-05</td>\n",
       "      <td>180319</td>\n",
       "      <td>https://open.spotify.com/track/05QeyKGAn4TZrv4...</td>\n",
       "      <td>https://www.youtube.com/watch?v=sWhy1VcvvgY</td>\n",
       "      <td>181000</td>\n",
       "      <td>https://www.youtube.com/watch?v=-OswZiQeXgc</td>\n",
       "      <td>60000.0</td>\n",
       "      <td>2017</td>\n",
       "      <td>2010</td>\n",
       "      <td>3.005317</td>\n",
       "      <td>3.016667</td>\n",
       "      <td>1.000000</td>\n",
       "      <td>2.016667</td>\n",
       "    </tr>\n",
       "    <tr>\n",
       "      <th>2</th>\n",
       "      <td>Aliança</td>\n",
       "      <td>Tribalistas</td>\n",
       "      <td>Tribalistas</td>\n",
       "      <td>2017-01-01</td>\n",
       "      <td>237421</td>\n",
       "      <td>https://open.spotify.com/track/1DLKuppSYytOuxh...</td>\n",
       "      <td>https://www.youtube.com/watch?v=3JiMr-HgHJ8</td>\n",
       "      <td>251000</td>\n",
       "      <td>https://www.youtube.com/watch?v=I1kwd-UDuec</td>\n",
       "      <td>227000.0</td>\n",
       "      <td>2017</td>\n",
       "      <td>2010</td>\n",
       "      <td>3.957017</td>\n",
       "      <td>4.183333</td>\n",
       "      <td>3.783333</td>\n",
       "      <td>0.400000</td>\n",
       "    </tr>\n",
       "    <tr>\n",
       "      <th>3</th>\n",
       "      <td>O Que É O Que É?</td>\n",
       "      <td>Gonzaguinha</td>\n",
       "      <td>Caminhos Do Coração</td>\n",
       "      <td>1982-08-13</td>\n",
       "      <td>258986</td>\n",
       "      <td>https://open.spotify.com/track/2CoKGyZavJWTFUP...</td>\n",
       "      <td>https://www.youtube.com/watch?v=IYZcsb706q8</td>\n",
       "      <td>261000</td>\n",
       "      <td>https://www.youtube.com/watch?v=CruT6LdL-Uc</td>\n",
       "      <td>219000.0</td>\n",
       "      <td>1982</td>\n",
       "      <td>1980</td>\n",
       "      <td>4.316433</td>\n",
       "      <td>4.350000</td>\n",
       "      <td>3.650000</td>\n",
       "      <td>0.700000</td>\n",
       "    </tr>\n",
       "    <tr>\n",
       "      <th>4</th>\n",
       "      <td>A Banda</td>\n",
       "      <td>Chico Buarque</td>\n",
       "      <td>Chico Buarque de Hollanda</td>\n",
       "      <td>1966-01-01</td>\n",
       "      <td>131000</td>\n",
       "      <td>https://open.spotify.com/track/6wUp7y502iyWLuL...</td>\n",
       "      <td>https://www.youtube.com/watch?v=WZWcpEgJZAY</td>\n",
       "      <td>132000</td>\n",
       "      <td>https://www.youtube.com/watch?v=8Ba1_LfcFR0</td>\n",
       "      <td>61000.0</td>\n",
       "      <td>1966</td>\n",
       "      <td>1960</td>\n",
       "      <td>2.183333</td>\n",
       "      <td>2.200000</td>\n",
       "      <td>1.016667</td>\n",
       "      <td>1.183333</td>\n",
       "    </tr>\n",
       "  </tbody>\n",
       "</table>\n",
       "</div>"
      ],
      "text/plain": [
       "                               Track Name         Artist  \\\n",
       "0  Velha Infância - 2004 Digital Remaster    Tribalistas   \n",
       "1                               Trem-Bala     Ana Vilela   \n",
       "2                                 Aliança    Tribalistas   \n",
       "3                        O Que É O Que É?    Gonzaguinha   \n",
       "4                                 A Banda  Chico Buarque   \n",
       "\n",
       "                       Album Release Date  Spotify Duration (ms)  \\\n",
       "0                Tribalistas   2002-01-01                 250440   \n",
       "1                  Trem-Bala   2017-12-05                 180319   \n",
       "2                Tribalistas   2017-01-01                 237421   \n",
       "3        Caminhos Do Coração   1982-08-13                 258986   \n",
       "4  Chico Buarque de Hollanda   1966-01-01                 131000   \n",
       "\n",
       "                                   Spotify Track URL  \\\n",
       "0  https://open.spotify.com/track/1mSxbLW7fKABfeY...   \n",
       "1  https://open.spotify.com/track/05QeyKGAn4TZrv4...   \n",
       "2  https://open.spotify.com/track/1DLKuppSYytOuxh...   \n",
       "3  https://open.spotify.com/track/2CoKGyZavJWTFUP...   \n",
       "4  https://open.spotify.com/track/6wUp7y502iyWLuL...   \n",
       "\n",
       "                    YouTube Original Video URL  Original Duration  \\\n",
       "0  https://www.youtube.com/watch?v=iyJDuJggiEM             251000   \n",
       "1  https://www.youtube.com/watch?v=sWhy1VcvvgY             181000   \n",
       "2  https://www.youtube.com/watch?v=3JiMr-HgHJ8             251000   \n",
       "3  https://www.youtube.com/watch?v=IYZcsb706q8             261000   \n",
       "4  https://www.youtube.com/watch?v=WZWcpEgJZAY             132000   \n",
       "\n",
       "                  YouTube Piano Solo Video URL  Piano Solo Duration  Year  \\\n",
       "0  https://www.youtube.com/watch?v=YcOyefoJec0             146000.0  2002   \n",
       "1  https://www.youtube.com/watch?v=-OswZiQeXgc              60000.0  2017   \n",
       "2  https://www.youtube.com/watch?v=I1kwd-UDuec             227000.0  2017   \n",
       "3  https://www.youtube.com/watch?v=CruT6LdL-Uc             219000.0  1982   \n",
       "4  https://www.youtube.com/watch?v=8Ba1_LfcFR0              61000.0  1966   \n",
       "\n",
       "   Decade  Spotify Duration (min)  Original Duration (min)  \\\n",
       "0    2000                4.174000                 4.183333   \n",
       "1    2010                3.005317                 3.016667   \n",
       "2    2010                3.957017                 4.183333   \n",
       "3    1980                4.316433                 4.350000   \n",
       "4    1960                2.183333                 2.200000   \n",
       "\n",
       "   Piano Duration (min)  Diff_Original_Piano  \n",
       "0              2.433333             1.750000  \n",
       "1              1.000000             2.016667  \n",
       "2              3.783333             0.400000  \n",
       "3              3.650000             0.700000  \n",
       "4              1.016667             1.183333  "
      ]
     },
     "execution_count": 25,
     "metadata": {},
     "output_type": "execute_result"
    }
   ],
   "source": [
    "df_no_outliers.head()"
   ]
  },
  {
   "cell_type": "code",
   "execution_count": 26,
   "metadata": {},
   "outputs": [],
   "source": [
    "df_no_outliers.to_csv('dataset/playlist_metadata_clean.csv', index=False)"
   ]
  }
 ],
 "metadata": {
  "kernelspec": {
   "display_name": "venv",
   "language": "python",
   "name": "venv"
  },
  "language_info": {
   "codemirror_mode": {
    "name": "ipython",
    "version": 3
   },
   "file_extension": ".py",
   "mimetype": "text/x-python",
   "name": "python",
   "nbconvert_exporter": "python",
   "pygments_lexer": "ipython3",
   "version": "3.10.8"
  }
 },
 "nbformat": 4,
 "nbformat_minor": 2
}
